{
  "cells": [
    {
      "cell_type": "code",
      "execution_count": 9,
      "metadata": {
        "id": "1GbaiKUBpnoL"
      },
      "outputs": [],
      "source": [
        "import numpy as np\n",
        "import tensorflow as tf\n",
        "import matplotlib.pyplot as plt\n",
        "\n",
        "from keras.utils import image_dataset_from_directory\n",
        "from keras.applications.resnet_v2 import ResNet50V2, preprocess_input\n",
        "from keras.callbacks import ModelCheckpoint, EarlyStopping\n",
        "from keras.models import load_model\n",
        "from keras.optimizers import Adam\n",
        "from sklearn.metrics import confusion_matrix\n",
        "import seaborn as sns"
      ]
    },
    {
      "cell_type": "code",
      "execution_count": null,
      "metadata": {
        "colab": {
          "base_uri": "https://localhost:8080/"
        },
        "id": "qT4pV_KzwajN",
        "outputId": "7ca69aac-a431-4ca2-8f69-2425c2343182"
      },
      "outputs": [],
      "source": [
        "image_size = (224, 224)\n",
        "batch_size = 16\n",
        "\n",
        "train_ds, val_ds = image_dataset_from_directory(\n",
        "    \"dataset_balanceado\",\n",
        "    validation_split=0.3,\n",
        "    subset=\"both\",\n",
        "    seed=1337,\n",
        "    image_size=image_size,\n",
        "    batch_size=batch_size,\n",
        "    label_mode=\"categorical\",\n",
        ")\n",
        "\n",
        "classes = train_ds.class_names"
      ]
    },
    {
      "cell_type": "code",
      "execution_count": null,
      "metadata": {
        "colab": {
          "base_uri": "https://localhost:8080/",
          "height": 829
        },
        "id": "t-b1uQp3wc95",
        "outputId": "66c8ecda-e332-4aa0-9296-1f022bbb4323"
      },
      "outputs": [],
      "source": [
        "plt.figure(figsize=(10, 10))\n",
        "for images, labels in train_ds.take(1):\n",
        "    for i in range(9):\n",
        "        image = images[i].numpy().astype(\"uint8\")\n",
        "        label = np.argmax(labels[i])\n",
        "\n",
        "        ax = plt.subplot(3, 3, i + 1)\n",
        "        plt.imshow(image)\n",
        "        plt.title(f\"{classes[label]} ({label})\")\n",
        "        plt.axis(\"off\")"
      ]
    },
    {
      "cell_type": "code",
      "execution_count": 12,
      "metadata": {
        "id": "p77bASUPwm5L"
      },
      "outputs": [],
      "source": [
        "AUTOTUNE = tf.data.AUTOTUNE\n",
        "\n",
        "train_ds = train_ds.map(lambda x, y: (preprocess_input(x), y), num_parallel_calls=AUTOTUNE)\n",
        "val_ds = val_ds.map(lambda x, y: (preprocess_input(x), y), num_parallel_calls=AUTOTUNE)\n",
        "\n",
        "train_ds = train_ds.prefetch(buffer_size=AUTOTUNE)\n",
        "val_ds = val_ds.prefetch(buffer_size=AUTOTUNE)"
      ]
    },
    {
      "cell_type": "code",
      "execution_count": 13,
      "metadata": {
        "id": "Rj80S2O0wo1g"
      },
      "outputs": [],
      "source": [
        "model = ResNet50V2(\n",
        "    include_top=True,\n",
        "    weights=None,\n",
        "    classes=len(classes),\n",
        ")"
      ]
    },
    {
      "cell_type": "code",
      "execution_count": null,
      "metadata": {
        "colab": {
          "base_uri": "https://localhost:8080/",
          "height": 1000
        },
        "id": "R1hmY32XwqCx",
        "outputId": "e7e420a9-a30e-49ed-dedf-ca15168c2e6d"
      },
      "outputs": [],
      "source": [
        "model.summary()"
      ]
    },
    {
      "cell_type": "code",
      "execution_count": 15,
      "metadata": {
        "id": "p83lHwxAwrkU"
      },
      "outputs": [],
      "source": [
        "model.compile(\n",
        "    optimizer=Adam(learning_rate=5e-4),\n",
        "    loss=\"categorical_crossentropy\",\n",
        "    metrics=[\"accuracy\"],\n",
        ")"
      ]
    },
    {
      "cell_type": "code",
      "execution_count": null,
      "metadata": {
        "colab": {
          "base_uri": "https://localhost:8080/"
        },
        "id": "2X5GGkwowtIU",
        "outputId": "9fcec444-6202-4382-deac-3da921183faa"
      },
      "outputs": [],
      "source": [
        "history = model.fit(\n",
        "    train_ds,\n",
        "    validation_data=val_ds,\n",
        "    callbacks=[\n",
        "        ModelCheckpoint(\"model.keras\", save_best_only=True),\n",
        "        EarlyStopping(patience=5)\n",
        "    ],\n",
        "    epochs=50,\n",
        ")"
      ]
    },
    {
      "cell_type": "code",
      "execution_count": null,
      "metadata": {
        "id": "SDe5S4Qr5FoF"
      },
      "outputs": [],
      "source": [
        "plt.figure(figsize=(12, 4))\n",
        "plt.subplot(1, 2, 1)\n",
        "plt.plot(history.history['loss'], label='Training Loss')\n",
        "plt.plot(history.history['val_loss'], label='Validation Loss')\n",
        "plt.title('Loss')\n",
        "plt.xlabel('Epoch')\n",
        "plt.ylabel('Loss')\n",
        "plt.legend()\n",
        "plt.subplot(1, 2, 2)\n",
        "\n",
        "if 'accuracy' in history.history:\n",
        "    plt.plot(history.history['accuracy'], label='Training Accuracy')\n",
        "    plt.plot(history.history['val_accuracy'], label='Validation Accuracy')\n",
        "else:\n",
        "    plt.plot(history.history['acc'], label='Training Accuracy')\n",
        "    plt.plot(history.history['val_acc'], label='Validation Accuracy')\n",
        "\n",
        "plt.title('Accuracy')\n",
        "plt.xlabel('Epoch')\n",
        "plt.ylabel('Accuracy')\n",
        "plt.legend()\n",
        "\n",
        "plt.tight_layout()\n",
        "plt.show()"
      ]
    },
    {
      "cell_type": "code",
      "execution_count": 18,
      "metadata": {
        "id": "Bi5G7LfE04sD"
      },
      "outputs": [],
      "source": [
        "model = load_model(\"model.keras\")"
      ]
    },
    {
      "cell_type": "code",
      "execution_count": null,
      "metadata": {
        "id": "0hhZ-TuyAdgA"
      },
      "outputs": [],
      "source": [
        "predictions = model.predict(val_ds)\n",
        "predictions = np.argmax(predictions, axis=1)\n",
        "\n",
        "# Gera a matriz de confusão\n",
        "y_test = np.concatenate([y for x, y in val_ds], axis=0)\n",
        "confusion_mtx = confusion_matrix(np.argmax(y_test, axis=1), predictions)\n",
        "\n",
        "# Plota a matriz de confusão\n",
        "fig, ax = plt.subplots(figsize=(15, 10))\n",
        "ax = sns.heatmap(confusion_mtx, annot=True, fmt=\"d\", ax=ax, cmap=\"viridis\")\n",
        "ax.set_xlabel(\"Etiqueta prevista\")\n",
        "ax.set_ylabel(\"Etiqueta verdadeira\")\n",
        "ax.set_title(\"Matriz de Confusão\");"
      ]
    }
  ],
  "metadata": {
    "accelerator": "GPU",
    "colab": {
      "gpuType": "T4",
      "provenance": []
    },
    "kernelspec": {
      "display_name": "keras",
      "language": "python",
      "name": "python3"
    },
    "language_info": {
      "codemirror_mode": {
        "name": "ipython",
        "version": 3
      },
      "file_extension": ".py",
      "mimetype": "text/x-python",
      "name": "python",
      "nbconvert_exporter": "python",
      "pygments_lexer": "ipython3",
      "version": "3.12.8"
    }
  },
  "nbformat": 4,
  "nbformat_minor": 0
}
